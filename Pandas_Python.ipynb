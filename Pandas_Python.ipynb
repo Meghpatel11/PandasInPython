{
  "nbformat": 4,
  "nbformat_minor": 0,
  "metadata": {
    "colab": {
      "name": "Pandas Python",
      "provenance": []
    },
    "kernelspec": {
      "name": "python3",
      "display_name": "Python 3"
    },
    "language_info": {
      "name": "python"
    }
  },
  "cells": [
    {
      "cell_type": "code",
      "metadata": {
        "id": "QWmWKiL9luI0"
      },
      "source": [
        "import pandas\n",
        "import numpy"
      ],
      "execution_count": null,
      "outputs": []
    },
    {
      "cell_type": "code",
      "metadata": {
        "colab": {
          "base_uri": "https://localhost:8080/"
        },
        "id": "9DnpnC2DoMbu",
        "outputId": "2311f4b3-1823-45ab-ee8d-92a0a139fc04"
      },
      "source": [
        "print(\"Welcome to Pandas series😊😊\")\n",
        "print(\"Stay Tuned for next part!!!\")"
      ],
      "execution_count": null,
      "outputs": [
        {
          "output_type": "stream",
          "text": [
            "Welcome to Pandas series😊😊\n",
            "Stay Tuned for next part!!!\n"
          ],
          "name": "stdout"
        }
      ]
    },
    {
      "cell_type": "code",
      "metadata": {
        "id": "ZhKNUAAFoYo7",
        "colab": {
          "base_uri": "https://localhost:8080/"
        },
        "outputId": "8f02372d-a2b4-425a-9528-0bf071844fcc"
      },
      "source": [
        "import pandas as pd \n",
        "\n",
        "df = pd.read_csv('https://raw.githubusercontent.com/guipsamora/pandas_exercises/master/02_Filtering_%26_Sorting/Euro12/Euro_2012_stats_TEAM.csv', sep=',')\n",
        "\n",
        "print(df.head())"
      ],
      "execution_count": 2,
      "outputs": [
        {
          "output_type": "stream",
          "text": [
            "             Team  Goals  Shots on target  ...  Subs on Subs off Players Used\n",
            "0         Croatia      4               13  ...        9        9           16\n",
            "1  Czech Republic      4               13  ...       11       11           19\n",
            "2         Denmark      4               10  ...        7        7           15\n",
            "3         England      5               11  ...       11       11           16\n",
            "4          France      3               22  ...       11       11           19\n",
            "\n",
            "[5 rows x 35 columns]\n",
            "\n"
          ],
          "name": "stdout"
        }
      ]
    },
    {
      "cell_type": "code",
      "metadata": {
        "colab": {
          "base_uri": "https://localhost:8080/"
        },
        "id": "AmIa2t1fmClO",
        "outputId": "b71966fa-c294-48ab-9660-cce3686ccffb"
      },
      "source": [
        "print(\"All columns labels and shape:\\n\")\n",
        "print(df.columns)\n",
        "print(\"Shape of df: \",df.shape)"
      ],
      "execution_count": 12,
      "outputs": [
        {
          "output_type": "stream",
          "text": [
            "All columns labels and shape:\n",
            "\n",
            "Index(['Team', 'Goals', 'Shots on target', 'Shots off target',\n",
            "       'Shooting Accuracy', '% Goals-to-shots', 'Total shots (inc. Blocked)',\n",
            "       'Hit Woodwork', 'Penalty goals', 'Penalties not scored', 'Headed goals',\n",
            "       'Passes', 'Passes completed', 'Passing Accuracy', 'Touches', 'Crosses',\n",
            "       'Dribbles', 'Corners Taken', 'Tackles', 'Clearances', 'Interceptions',\n",
            "       'Clearances off line', 'Clean Sheets', 'Blocks', 'Goals conceded',\n",
            "       'Saves made', 'Saves-to-shots ratio', 'Fouls Won', 'Fouls Conceded',\n",
            "       'Offsides', 'Yellow Cards', 'Red Cards', 'Subs on', 'Subs off',\n",
            "       'Players Used'],\n",
            "      dtype='object')\n",
            "Shape of df:  (16, 35)\n"
          ],
          "name": "stdout"
        }
      ]
    },
    {
      "cell_type": "code",
      "metadata": {
        "colab": {
          "base_uri": "https://localhost:8080/"
        },
        "id": "eKh19gQLmIzZ",
        "outputId": "c4106fff-d522-4c1e-a4d8-9d5f2b8df21b"
      },
      "source": [
        "print(\"Fitering some data:Total Cards\\n\")\n",
        "cards_gaind = df[['Team', 'Yellow Cards', 'Red Cards']]\n",
        "print(cards_gaind)\n"
      ],
      "execution_count": 4,
      "outputs": [
        {
          "output_type": "stream",
          "text": [
            "Fitering some data:Total Cards\n",
            "\n",
            "                   Team  Yellow Cards  Red Cards\n",
            "0               Croatia             9          0\n",
            "1        Czech Republic             7          0\n",
            "2               Denmark             4          0\n",
            "3               England             5          0\n",
            "4                France             6          0\n",
            "5               Germany             4          0\n",
            "6                Greece             9          1\n",
            "7                 Italy            16          0\n",
            "8           Netherlands             5          0\n",
            "9                Poland             7          1\n",
            "10             Portugal            12          0\n",
            "11  Republic of Ireland             6          1\n",
            "12               Russia             6          0\n",
            "13                Spain            11          0\n",
            "14               Sweden             7          0\n",
            "15              Ukraine             5          0\n"
          ],
          "name": "stdout"
        }
      ]
    },
    {
      "cell_type": "code",
      "metadata": {
        "colab": {
          "base_uri": "https://localhost:8080/"
        },
        "id": "Ah7YAYJxmL8Q",
        "outputId": "88bdfe83-ddd6-4dd5-c54e-30cc3c6217f4"
      },
      "source": [
        "print(\"Sorting as Creating sub dataframes: \\n\")\n",
        "accuracy = df[['Shooting Accuracy','Team']]\n",
        "print(accuracy)"
      ],
      "execution_count": 5,
      "outputs": [
        {
          "output_type": "stream",
          "text": [
            "Sorting as Creating sub dataframes: \n",
            "\n",
            "   Shooting Accuracy                 Team\n",
            "0              51.9%              Croatia\n",
            "1              41.9%       Czech Republic\n",
            "2              50.0%              Denmark\n",
            "3              50.0%              England\n",
            "4              37.9%               France\n",
            "5              47.8%              Germany\n",
            "6              30.7%               Greece\n",
            "7              43.0%                Italy\n",
            "8              25.0%          Netherlands\n",
            "9              39.4%               Poland\n",
            "10             34.3%             Portugal\n",
            "11             36.8%  Republic of Ireland\n",
            "12             22.5%               Russia\n",
            "13             55.9%                Spain\n",
            "14             47.2%               Sweden\n",
            "15             21.2%              Ukraine\n"
          ],
          "name": "stdout"
        }
      ]
    },
    {
      "cell_type": "code",
      "metadata": {
        "colab": {
          "base_uri": "https://localhost:8080/"
        },
        "id": "bBeif9ZpmO7A",
        "outputId": "994cb81e-df08-411e-c151-9c5fc77b6493"
      },
      "source": [
        "print(\"Sorting Teams by Accuracy: \\n\")\n",
        "print(accuracy.sort_values(by='Shooting Accuracy',ascending=False))"
      ],
      "execution_count": 6,
      "outputs": [
        {
          "output_type": "stream",
          "text": [
            "Sorting Teams by Accuracy: \n",
            "\n",
            "   Shooting Accuracy                 Team\n",
            "13             55.9%                Spain\n",
            "0              51.9%              Croatia\n",
            "2              50.0%              Denmark\n",
            "3              50.0%              England\n",
            "5              47.8%              Germany\n",
            "14             47.2%               Sweden\n",
            "7              43.0%                Italy\n",
            "1              41.9%       Czech Republic\n",
            "9              39.4%               Poland\n",
            "4              37.9%               France\n",
            "11             36.8%  Republic of Ireland\n",
            "10             34.3%             Portugal\n",
            "6              30.7%               Greece\n",
            "8              25.0%          Netherlands\n",
            "12             22.5%               Russia\n",
            "15             21.2%              Ukraine\n"
          ],
          "name": "stdout"
        }
      ]
    },
    {
      "cell_type": "code",
      "metadata": {
        "colab": {
          "base_uri": "https://localhost:8080/"
        },
        "id": "pmm63PjUmQ5B",
        "outputId": "323c8c0b-ac94-4183-976a-fbc981393b8d"
      },
      "source": [
        "print(\"All Teams with goles > 7\\n\")\n",
        "print(df[df.Goals > 7])"
      ],
      "execution_count": 7,
      "outputs": [
        {
          "output_type": "stream",
          "text": [
            "All Teams with goles > 7\n",
            "\n",
            "       Team  Goals  Shots on target  ...  Subs on Subs off Players Used\n",
            "5   Germany     10               32  ...       15       15           17\n",
            "13    Spain     12               42  ...       17       17           18\n",
            "\n",
            "[2 rows x 35 columns]\n"
          ],
          "name": "stdout"
        }
      ]
    },
    {
      "cell_type": "code",
      "metadata": {
        "id": "lGlTvU5mmTud"
      },
      "source": [
        ""
      ],
      "execution_count": null,
      "outputs": []
    }
  ]
}